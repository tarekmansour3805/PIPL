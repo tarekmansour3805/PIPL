{
 "cells": [
  {
   "cell_type": "code",
   "execution_count": 1,
   "metadata": {},
   "outputs": [],
   "source": [
    "import pandas as pd"
   ]
  },
  {
   "cell_type": "code",
   "execution_count": 2,
   "metadata": {},
   "outputs": [],
   "source": [
    "#reading the data\n",
    "df = pd.read_excel(\"Data_Set1.xlsx\")"
   ]
  },
  {
   "cell_type": "code",
   "execution_count": 4,
   "metadata": {},
   "outputs": [],
   "source": [
    "#splliting the email and domain column and inserting data in a new dataframe df2\n",
    "df2 = pd.DataFrame(df.email.str.split('@', expand=True).values,\n",
    "             columns=['mail', 'domain'])"
   ]
  },
  {
   "cell_type": "code",
   "execution_count": 4,
   "metadata": {},
   "outputs": [
    {
     "data": {
      "text/plain": [
       "gmail.com           139\n",
       "att.net             136\n",
       "live.com            135\n",
       "cs.com              133\n",
       "yahoo.com           126\n",
       "comcast.net         125\n",
       "aim.com             122\n",
       "qwerty.org          113\n",
       "aol.com             113\n",
       "outlook.com         113\n",
       "earthlink.net       113\n",
       "msn.com             111\n",
       "sbcglobal.net       111\n",
       "cox.net             109\n",
       "verizon.net         109\n",
       "worldnet.att.net    109\n",
       "gateway.com         107\n",
       "juno.com            105\n",
       "ymail.com           104\n",
       "hotmail.com         102\n",
       "hello-world.org     102\n",
       "icloud.com          101\n",
       "holder.com           99\n",
       "netzero.net          98\n",
       "bellsouth.net        96\n",
       "prodigy.net          95\n",
       "peoplepc.com         94\n",
       "adelphia.net         94\n",
       "attb1.com            93\n",
       "mail.com             92\n",
       "email.com            91\n",
       "netzero.com          90\n",
       "roadrunner.com       85\n",
       "attbi.com            85\n",
       "nj.rr.com            82\n",
       "netscape.com         82\n",
       "insightbb.com        81\n",
       "usa.net              81\n",
       "centurytel.net       81\n",
       "random.com           80\n",
       "gte.net              79\n",
       "rocketmail.com       78\n",
       "netscape.net         78\n",
       "wmconnect.com        77\n",
       "san.rr.com           76\n",
       "twcny.rr.com         74\n",
       "charter.net          72\n",
       "optonline.net        72\n",
       "mailcity.com         72\n",
       "example.org          64\n",
       "address.com          62\n",
       "test.edu             59\n",
       "Name: domain, dtype: int64"
      ]
     },
     "execution_count": 4,
     "metadata": {},
     "output_type": "execute_result"
    }
   ],
   "source": [
    "#number of unique domains in the table\n",
    "df2.domain.value_counts()"
   ]
  },
  {
   "cell_type": "code",
   "execution_count": 5,
   "metadata": {},
   "outputs": [
    {
     "data": {
      "text/plain": [
       "gmail.com           0.0278\n",
       "att.net             0.0272\n",
       "live.com            0.0270\n",
       "cs.com              0.0266\n",
       "yahoo.com           0.0252\n",
       "comcast.net         0.0250\n",
       "aim.com             0.0244\n",
       "qwerty.org          0.0226\n",
       "aol.com             0.0226\n",
       "outlook.com         0.0226\n",
       "earthlink.net       0.0226\n",
       "msn.com             0.0222\n",
       "sbcglobal.net       0.0222\n",
       "cox.net             0.0218\n",
       "verizon.net         0.0218\n",
       "worldnet.att.net    0.0218\n",
       "gateway.com         0.0214\n",
       "juno.com            0.0210\n",
       "ymail.com           0.0208\n",
       "hotmail.com         0.0204\n",
       "hello-world.org     0.0204\n",
       "icloud.com          0.0202\n",
       "holder.com          0.0198\n",
       "netzero.net         0.0196\n",
       "bellsouth.net       0.0192\n",
       "prodigy.net         0.0190\n",
       "peoplepc.com        0.0188\n",
       "adelphia.net        0.0188\n",
       "attb1.com           0.0186\n",
       "mail.com            0.0184\n",
       "email.com           0.0182\n",
       "netzero.com         0.0180\n",
       "roadrunner.com      0.0170\n",
       "attbi.com           0.0170\n",
       "nj.rr.com           0.0164\n",
       "netscape.com        0.0164\n",
       "insightbb.com       0.0162\n",
       "usa.net             0.0162\n",
       "centurytel.net      0.0162\n",
       "random.com          0.0160\n",
       "gte.net             0.0158\n",
       "rocketmail.com      0.0156\n",
       "netscape.net        0.0156\n",
       "wmconnect.com       0.0154\n",
       "san.rr.com          0.0152\n",
       "twcny.rr.com        0.0148\n",
       "charter.net         0.0144\n",
       "optonline.net       0.0144\n",
       "mailcity.com        0.0144\n",
       "example.org         0.0128\n",
       "address.com         0.0124\n",
       "test.edu            0.0118\n",
       "Name: domain, dtype: float64"
      ]
     },
     "execution_count": 5,
     "metadata": {},
     "output_type": "execute_result"
    }
   ],
   "source": [
    "#Representing the above domain column in percentage decimal form\n",
    "percentage = df2.domain.value_counts(normalize=True)\n",
    "percentage"
   ]
  },
  {
   "cell_type": "code",
   "execution_count": 10,
   "metadata": {},
   "outputs": [
    {
     "data": {
      "text/plain": [
       "gmail.com                         2.78%\n",
       "att.net             2.7199999999999998%\n",
       "live.com                           2.7%\n",
       "cs.com              2.6599999999999997%\n",
       "yahoo.com                         2.52%\n",
       "comcast.net                        2.5%\n",
       "aim.com                           2.44%\n",
       "qwerty.org                        2.26%\n",
       "aol.com                           2.26%\n",
       "outlook.com                       2.26%\n",
       "earthlink.net                     2.26%\n",
       "msn.com                           2.22%\n",
       "sbcglobal.net                     2.22%\n",
       "cox.net                           2.18%\n",
       "verizon.net                       2.18%\n",
       "worldnet.att.net                  2.18%\n",
       "gateway.com         2.1399999999999997%\n",
       "juno.com                           2.1%\n",
       "ymail.com                         2.08%\n",
       "hotmail.com                       2.04%\n",
       "hello-world.org                   2.04%\n",
       "icloud.com                        2.02%\n",
       "holder.com          1.9800000000000002%\n",
       "netzero.net                       1.96%\n",
       "bellsouth.net                     1.92%\n",
       "prodigy.net                        1.9%\n",
       "peoplepc.com        1.8800000000000001%\n",
       "adelphia.net        1.8800000000000001%\n",
       "attb1.com           1.8599999999999999%\n",
       "mail.com            1.8399999999999999%\n",
       "email.com                         1.82%\n",
       "netzero.com         1.7999999999999998%\n",
       "roadrunner.com      1.7000000000000002%\n",
       "attbi.com           1.7000000000000002%\n",
       "nj.rr.com           1.6400000000000001%\n",
       "netscape.com        1.6400000000000001%\n",
       "insightbb.com       1.6199999999999999%\n",
       "usa.net             1.6199999999999999%\n",
       "centurytel.net      1.6199999999999999%\n",
       "random.com                         1.6%\n",
       "gte.net                           1.58%\n",
       "rocketmail.com      1.5599999999999998%\n",
       "netscape.net        1.5599999999999998%\n",
       "wmconnect.com                     1.54%\n",
       "san.rr.com                        1.52%\n",
       "twcny.rr.com                      1.48%\n",
       "charter.net                       1.44%\n",
       "optonline.net                     1.44%\n",
       "mailcity.com                      1.44%\n",
       "example.org                       1.28%\n",
       "address.com                       1.24%\n",
       "test.edu                          1.18%\n",
       "Name: domain, dtype: object"
      ]
     },
     "execution_count": 10,
     "metadata": {},
     "output_type": "execute_result"
    }
   ],
   "source": [
    "#Representing the domain column in percentage form\n",
    "(percentage*100).astype(str) + '%'"
   ]
  },
  {
   "cell_type": "code",
   "execution_count": 8,
   "metadata": {},
   "outputs": [
    {
     "data": {
      "text/plain": [
       "100.0"
      ]
     },
     "execution_count": 8,
     "metadata": {},
     "output_type": "execute_result"
    }
   ],
   "source": [
    "#total percentage \n",
    "(percentage*100).sum()"
   ]
  },
  {
   "cell_type": "code",
   "execution_count": null,
   "metadata": {},
   "outputs": [],
   "source": []
  }
 ],
 "metadata": {
  "kernelspec": {
   "display_name": "Python 3",
   "language": "python",
   "name": "python3"
  },
  "language_info": {
   "codemirror_mode": {
    "name": "ipython",
    "version": 3
   },
   "file_extension": ".py",
   "mimetype": "text/x-python",
   "name": "python",
   "nbconvert_exporter": "python",
   "pygments_lexer": "ipython3",
   "version": "3.6.5"
  }
 },
 "nbformat": 4,
 "nbformat_minor": 2
}
